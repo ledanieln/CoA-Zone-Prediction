{
 "cells": [
  {
   "cell_type": "code",
   "execution_count": 1,
   "metadata": {},
   "outputs": [],
   "source": [
    "import pandas as pd\n",
    "import matplotlib.pyplot as plt"
   ]
  },
  {
   "cell_type": "code",
   "execution_count": 30,
   "metadata": {},
   "outputs": [
    {
     "data": {
      "text/plain": [
       "['zoneID',\n",
       " 'zoneArea',\n",
       " 'SidewalkCount',\n",
       " 'percentSidewalkArea',\n",
       " 'Paved ParkingCount',\n",
       " 'percentPaved ParkingArea',\n",
       " 'Paved DrivewayCount',\n",
       " 'percentPaved DrivewayArea',\n",
       " 'PavementCount',\n",
       " 'percentPavementArea',\n",
       " 'PatioCount',\n",
       " 'percentPatioArea',\n",
       " 'In Ground PoolCount',\n",
       " 'percentIn Ground PoolArea',\n",
       " 'TankCount',\n",
       " 'percentTankArea',\n",
       " 'Unpaved DrivewayCount',\n",
       " 'percentUnpaved DrivewayArea',\n",
       " 'Uncovered DeckCount',\n",
       " 'percentUncovered DeckArea',\n",
       " 'Compacted SoilCount',\n",
       " 'percentCompacted SoilArea',\n",
       " 'BridgeCount',\n",
       " 'percentBridgeArea',\n",
       " 'DockCount',\n",
       " 'percentDockArea',\n",
       " 'Above Ground PoolCount',\n",
       " 'percentAbove Ground PoolArea',\n",
       " 'Recreation Court/Ball FieldCount',\n",
       " 'percentRecreation Court/Ball FieldArea',\n",
       " 'Golf CourseCount',\n",
       " 'percentGolf CourseArea',\n",
       " 'Unpaved Athletic FieldCount',\n",
       " 'percentUnpaved Athletic FieldArea',\n",
       " 'Covered DeckCount',\n",
       " 'percentCovered DeckArea',\n",
       " 'Unpaved ParkingCount',\n",
       " 'percentUnpaved ParkingArea',\n",
       " 'CourtyardCount',\n",
       " 'percentCourtyardArea',\n",
       " 'Open SpaceCount',\n",
       " 'percentOpen SpaceArea',\n",
       " 'Paved DitchCount',\n",
       " 'percentPaved DitchArea',\n",
       " 'Paved RoadCount',\n",
       " 'percentPaved RoadArea',\n",
       " 'StructureCount',\n",
       " 'percentStructureArea',\n",
       " 'Open StorageCount',\n",
       " 'percentOpen StorageArea',\n",
       " 'Median > 10 FeetCount',\n",
       " 'percentMedian > 10 FeetArea',\n",
       " 'MiscellaneousCount',\n",
       " 'percentMiscellaneousArea',\n",
       " 'Paved AlleyCount',\n",
       " 'percentPaved AlleyArea',\n",
       " 'TrailCount',\n",
       " 'percentTrailArea',\n",
       " 'Unpaved RoadCount',\n",
       " 'percentUnpaved RoadArea',\n",
       " 'Gravel/SandpitCount',\n",
       " 'percentGravel/SandpitArea',\n",
       " 'DamCount',\n",
       " 'percentDamArea',\n",
       " 'Unpaved AlleyCount',\n",
       " 'percentUnpaved AlleyArea',\n",
       " 'zoneType']"
      ]
     },
     "execution_count": 30,
     "metadata": {},
     "output_type": "execute_result"
    }
   ],
   "source": [
    "train = pd.read_csv('../data/processed/train.csv')\n",
    "list(train)"
   ]
  },
  {
   "cell_type": "code",
   "execution_count": 119,
   "metadata": {},
   "outputs": [
    {
     "data": {
      "text/plain": [
       "<matplotlib.collections.PathCollection at 0x1f1dcf56ef0>"
      ]
     },
     "execution_count": 119,
     "metadata": {},
     "output_type": "execute_result"
    },
    {
     "data": {
      "image/png": "[encoded data removed]",
      "text/plain": [
       "<Figure size 432x288 with 1 Axes>"
      ]
     },
     "metadata": {
      "needs_background": "light"
     },
     "output_type": "display_data"
    }
   ],
   "source": [
    "plt.scatter(train['zoneType'], train['StructureCount'])"
   ]
  },
  {
   "cell_type": "code",
   "execution_count": 84,
   "metadata": {},
   "outputs": [
    {
     "data": {
      "text/plain": [
       "count    8548.000000\n",
       "mean        0.106107\n",
       "std         1.083652\n",
       "min         0.000000\n",
       "25%         0.000000\n",
       "50%         0.000000\n",
       "75%         0.000000\n",
       "max        41.000000\n",
       "Name: CourtyardCount, dtype: float64"
      ]
     },
     "execution_count": 84,
     "metadata": {},
     "output_type": "execute_result"
    }
   ],
   "source": [
    "train['CourtyardCount'].describe()"
   ]
  },
  {
   "cell_type": "code",
   "execution_count": 66,
   "metadata": {
    "scrolled": true
   },
   "outputs": [
    {
     "data": {
      "text/plain": [
       "zoneID                                      400610530\n",
       "zoneArea                                      22.2279\n",
       "SidewalkCount                                       0\n",
       "percentSidewalkArea                                 0\n",
       "Paved ParkingCount                                  1\n",
       "percentPaved ParkingArea                      1253.96\n",
       "Paved DrivewayCount                                 0\n",
       "percentPaved DrivewayArea                           0\n",
       "PavementCount                                       0\n",
       "percentPavementArea                                 0\n",
       "PatioCount                                          0\n",
       "percentPatioArea                                    0\n",
       "In Ground PoolCount                                 0\n",
       "percentIn Ground PoolArea                           0\n",
       "TankCount                                           0\n",
       "percentTankArea                                     0\n",
       "Unpaved DrivewayCount                               0\n",
       "percentUnpaved DrivewayArea                         0\n",
       "Uncovered DeckCount                                 0\n",
       "percentUncovered DeckArea                           0\n",
       "Compacted SoilCount                                 0\n",
       "percentCompacted SoilArea                           0\n",
       "BridgeCount                                         0\n",
       "percentBridgeArea                                   0\n",
       "DockCount                                           0\n",
       "percentDockArea                                     0\n",
       "Above Ground PoolCount                              0\n",
       "percentAbove Ground PoolArea                        0\n",
       "Recreation Court/Ball FieldCount                    0\n",
       "percentRecreation Court/Ball FieldArea              0\n",
       "                                             ...     \n",
       "percentCourtyardArea                                0\n",
       "Open SpaceCount                                     0\n",
       "percentOpen SpaceArea                               0\n",
       "Paved DitchCount                                    0\n",
       "percentPaved DitchArea                              0\n",
       "Paved RoadCount                                     0\n",
       "percentPaved RoadArea                               0\n",
       "StructureCount                                      0\n",
       "percentStructureArea                                0\n",
       "Open StorageCount                                   0\n",
       "percentOpen StorageArea                             0\n",
       "Median > 10 FeetCount                               0\n",
       "percentMedian > 10 FeetArea                         0\n",
       "MiscellaneousCount                                  0\n",
       "percentMiscellaneousArea                            0\n",
       "Paved AlleyCount                                    0\n",
       "percentPaved AlleyArea                              0\n",
       "TrailCount                                          0\n",
       "percentTrailArea                                    0\n",
       "Unpaved RoadCount                                   0\n",
       "percentUnpaved RoadArea                             0\n",
       "Gravel/SandpitCount                                 0\n",
       "percentGravel/SandpitArea                           0\n",
       "DamCount                                            0\n",
       "percentDamArea                                      0\n",
       "Unpaved AlleyCount                                  0\n",
       "percentUnpaved AlleyArea                            0\n",
       "zoneType                                  Residential\n",
       "zoneAreaBin                                Small Area\n",
       "zoneAreaCol                                       red\n",
       "Name: 8395, Length: 69, dtype: object"
      ]
     },
     "execution_count": 66,
     "metadata": {},
     "output_type": "execute_result"
    }
   ],
   "source": [
    "train.iloc[8395]"
   ]
  },
  {
   "cell_type": "code",
   "execution_count": 42,
   "metadata": {},
   "outputs": [
    {
     "data": {
      "text/plain": [
       "(array([6.872e+03, 6.940e+02, 4.200e+02, 2.680e+02, 1.580e+02, 6.600e+01,\n",
       "        2.800e+01, 8.000e+00, 1.000e+01, 3.000e+00, 2.000e+00, 4.000e+00,\n",
       "        5.000e+00, 1.000e+00, 3.000e+00, 1.000e+00, 0.000e+00, 0.000e+00,\n",
       "        2.000e+00, 0.000e+00, 0.000e+00, 0.000e+00, 0.000e+00, 1.000e+00,\n",
       "        0.000e+00, 0.000e+00, 0.000e+00, 1.000e+00, 0.000e+00, 1.000e+00]),\n",
       " array([  0.        ,   8.13333333,  16.26666667,  24.4       ,\n",
       "         32.53333333,  40.66666667,  48.8       ,  56.93333333,\n",
       "         65.06666667,  73.2       ,  81.33333333,  89.46666667,\n",
       "         97.6       , 105.73333333, 113.86666667, 122.        ,\n",
       "        130.13333333, 138.26666667, 146.4       , 154.53333333,\n",
       "        162.66666667, 170.8       , 178.93333333, 187.06666667,\n",
       "        195.2       , 203.33333333, 211.46666667, 219.6       ,\n",
       "        227.73333333, 235.86666667, 244.        ]),\n",
       " <a list of 30 Patch objects>)"
      ]
     },
     "execution_count": 42,
     "metadata": {},
     "output_type": "execute_result"
    },
    {
     "data": {
      "image/png": "[encoded data removed]",
      "text/plain": [
       "<Figure size 432x288 with 1 Axes>"
      ]
     },
     "metadata": {
      "needs_background": "light"
     },
     "output_type": "display_data"
    }
   ],
   "source": [
    "plt.hist(train['Paved DrivewayCount'].values, bins=30)"
   ]
  },
  {
   "cell_type": "code",
   "execution_count": 7,
   "metadata": {},
   "outputs": [
    {
     "data": {
      "text/plain": [
       "<matplotlib.axes._subplots.AxesSubplot at 0x1f1d518d550>"
      ]
     },
     "execution_count": 7,
     "metadata": {},
     "output_type": "execute_result"
    },
    {
     "data": {
      "image/png": "[encoded data removed]",
      "text/plain": [
       "<Figure size 432x288 with 1 Axes>"
      ]
     },
     "metadata": {
      "needs_background": "light"
     },
     "output_type": "display_data"
    }
   ],
   "source": [
    "newTrain = train.drop([7850], axis=0)\n",
    "newTrain.boxplot(column=['zoneArea', 'percentStructureArea'])"
   ]
  },
  {
   "cell_type": "code",
   "execution_count": 8,
   "metadata": {},
   "outputs": [
    {
     "name": "stdout",
     "output_type": "stream",
     "text": [
      "6935.35696868561\n"
     ]
    }
   ],
   "source": [
    "print(train['zoneArea'][0])"
   ]
  },
  {
   "cell_type": "code",
   "execution_count": 37,
   "metadata": {},
   "outputs": [],
   "source": [
    "zoneAreaBin = []\n",
    "zoneAreaCol = []\n",
    "one_std = train['zoneArea'].mean()+train['zoneArea'].std()\n",
    "for value in train['zoneArea']:\n",
    "    if(value <= one_std):\n",
    "        zoneAreaBin.append(\"Small Area\")\n",
    "        zoneAreaCol.append(\"red\")\n",
    "    else:\n",
    "        zoneAreaBin.append(\"Large Area\")\n",
    "        zoneAreaCol.append(\"blue\")\n",
    "train['zoneAreaBin'] = pd.Series(zoneAreaBin)\n",
    "train['zoneAreaCol'] = pd.Series(zoneAreaCol)Side"
   ]
  },
  {
   "cell_type": "code",
   "execution_count": 38,
   "metadata": {},
   "outputs": [
    {
     "data": {
      "text/plain": [
       "<matplotlib.collections.PathCollection at 0x1f1d57b4a20>"
      ]
     },
     "execution_count": 38,
     "metadata": {},
     "output_type": "execute_result"
    },
    {
     "data": {
      "image/png": "[encoded data removed]",
      "text/plain": [
       "<Figure size 432x288 with 1 Axes>"
      ]
     },
     "metadata": {
      "needs_background": "light"
     },
     "output_type": "display_data"
    }
   ],
   "source": [
    "plt.scatter(train['zoneID'], train['zoneArea'], c=zoneAreaCol)"
   ]
  },
  {
   "cell_type": "code",
   "execution_count": 21,
   "metadata": {},
   "outputs": [
    {
     "data": {
      "text/plain": [
       "count           8548\n",
       "unique             2\n",
       "top       Small Area\n",
       "freq            8284\n",
       "dtype: object"
      ]
     },
     "execution_count": 21,
     "metadata": {},
     "output_type": "execute_result"
    }
   ],
   "source": [
    "zSeries = pd.Series(zoneAreaBin)\n",
    "zSeries.describe()"
   ]
  },
  {
   "cell_type": "code",
   "execution_count": 10,
   "metadata": {},
   "outputs": [
    {
     "data": {
      "text/plain": [
       "7850"
      ]
     },
     "execution_count": 10,
     "metadata": {},
     "output_type": "execute_result"
    }
   ],
   "source": [
    "train['zoneArea'].idxmax()"
   ]
  },
  {
   "cell_type": "code",
   "execution_count": 26,
   "metadata": {},
   "outputs": [
    {
     "data": {
      "text/plain": [
       "zoneID                                         215404\n",
       "zoneArea                                  1.17563e+07\n",
       "SidewalkCount                                     343\n",
       "percentSidewalkArea                         0.0464558\n",
       "Paved ParkingCount                                 41\n",
       "percentPaved ParkingArea                     0.255093\n",
       "Paved DrivewayCount                                15\n",
       "percentPaved DrivewayArea                  0.00716312\n",
       "PavementCount                                     374\n",
       "percentPavementArea                         0.0264803\n",
       "PatioCount                                         67\n",
       "percentPatioArea                           0.00801916\n",
       "In Ground PoolCount                                12\n",
       "percentIn Ground PoolArea                  0.00123451\n",
       "TankCount                                           5\n",
       "percentTankArea                           0.000641932\n",
       "Unpaved DrivewayCount                               3\n",
       "percentUnpaved DrivewayArea               0.000172726\n",
       "Uncovered DeckCount                                 0\n",
       "percentUncovered DeckArea                           0\n",
       "Compacted SoilCount                                12\n",
       "percentCompacted SoilArea                   0.0602688\n",
       "BridgeCount                                         0\n",
       "percentBridgeArea                                   0\n",
       "DockCount                                           0\n",
       "percentDockArea                                     0\n",
       "Above Ground PoolCount                              0\n",
       "percentAbove Ground PoolArea                        0\n",
       "Recreation Court/Ball FieldCount                    0\n",
       "percentRecreation Court/Ball FieldArea              0\n",
       "                                             ...     \n",
       "percentUnpaved ParkingArea                          0\n",
       "CourtyardCount                                     38\n",
       "percentCourtyardArea                       0.00395591\n",
       "Open SpaceCount                                     3\n",
       "percentOpen SpaceArea                       0.0063372\n",
       "Paved DitchCount                                    2\n",
       "percentPaved DitchArea                    0.000533908\n",
       "Paved RoadCount                                     4\n",
       "percentPaved RoadArea                        0.270239\n",
       "StructureCount                                    103\n",
       "percentStructureArea                         0.322147\n",
       "Open StorageCount                                   3\n",
       "percentOpen StorageArea                     0.0066334\n",
       "Median > 10 FeetCount                              13\n",
       "percentMedian > 10 FeetArea               0.000635802\n",
       "MiscellaneousCount                                  0\n",
       "percentMiscellaneousArea                            0\n",
       "Paved AlleyCount                                    0\n",
       "percentPaved AlleyArea                              0\n",
       "TrailCount                                          0\n",
       "percentTrailArea                                    0\n",
       "Unpaved RoadCount                                   0\n",
       "percentUnpaved RoadArea                             0\n",
       "Gravel/SandpitCount                                 0\n",
       "percentGravel/SandpitArea                           0\n",
       "DamCount                                            0\n",
       "percentDamArea                                      0\n",
       "Unpaved AlleyCount                                  0\n",
       "percentUnpaved AlleyArea                            0\n",
       "zoneType                                   Industrial\n",
       "Name: 7066, Length: 67, dtype: object"
      ]
     },
     "execution_count": 26,
     "metadata": {},
     "output_type": "execute_result"
    }
   ],
   "source": [
    "train.iloc[7066]"
   ]
  },
  {
   "cell_type": "code",
   "execution_count": 15,
   "metadata": {},
   "outputs": [],
   "source": [
    "validation = pd.read_csv('../data/processed/validation.csv')"
   ]
  },
  {
   "cell_type": "code",
   "execution_count": 166,
   "metadata": {},
   "outputs": [
    {
     "data": {
      "text/plain": [
       "['zoneID',\n",
       " 'zoneArea',\n",
       " 'SidewalkCount',\n",
       " 'percentSidewalkArea',\n",
       " 'Paved ParkingCount',\n",
       " 'percentPaved ParkingArea',\n",
       " 'Paved DrivewayCount',\n",
       " 'percentPaved DrivewayArea',\n",
       " 'PavementCount',\n",
       " 'percentPavementArea',\n",
       " 'PatioCount',\n",
       " 'percentPatioArea',\n",
       " 'In Ground PoolCount',\n",
       " 'percentIn Ground PoolArea',\n",
       " 'TankCount',\n",
       " 'percentTankArea',\n",
       " 'Unpaved DrivewayCount',\n",
       " 'percentUnpaved DrivewayArea',\n",
       " 'Uncovered DeckCount',\n",
       " 'percentUncovered DeckArea',\n",
       " 'Compacted SoilCount',\n",
       " 'percentCompacted SoilArea',\n",
       " 'BridgeCount',\n",
       " 'percentBridgeArea',\n",
       " 'DockCount',\n",
       " 'percentDockArea',\n",
       " 'Above Ground PoolCount',\n",
       " 'percentAbove Ground PoolArea',\n",
       " 'Recreation Court/Ball FieldCount',\n",
       " 'percentRecreation Court/Ball FieldArea',\n",
       " 'Golf CourseCount',\n",
       " 'percentGolf CourseArea',\n",
       " 'Unpaved Athletic FieldCount',\n",
       " 'percentUnpaved Athletic FieldArea',\n",
       " 'Covered DeckCount',\n",
       " 'percentCovered DeckArea',\n",
       " 'Unpaved ParkingCount',\n",
       " 'percentUnpaved ParkingArea',\n",
       " 'CourtyardCount',\n",
       " 'percentCourtyardArea',\n",
       " 'Open SpaceCount',\n",
       " 'percentOpen SpaceArea',\n",
       " 'Paved DitchCount',\n",
       " 'percentPaved DitchArea',\n",
       " 'Paved RoadCount',\n",
       " 'percentPaved RoadArea',\n",
       " 'StructureCount',\n",
       " 'percentStructureArea',\n",
       " 'Open StorageCount',\n",
       " 'percentOpen StorageArea',\n",
       " 'Median > 10 FeetCount',\n",
       " 'percentMedian > 10 FeetArea',\n",
       " 'MiscellaneousCount',\n",
       " 'percentMiscellaneousArea',\n",
       " 'Paved AlleyCount',\n",
       " 'percentPaved AlleyArea',\n",
       " 'TrailCount',\n",
       " 'percentTrailArea',\n",
       " 'Unpaved RoadCount',\n",
       " 'percentUnpaved RoadArea',\n",
       " 'Gravel/SandpitCount',\n",
       " 'percentGravel/SandpitArea',\n",
       " 'DamCount',\n",
       " 'percentDamArea',\n",
       " 'Unpaved AlleyCount',\n",
       " 'percentUnpaved AlleyArea',\n",
       " 'zoneType',\n",
       " 'zoneAreaBin',\n",
       " 'zoneAreaCol']"
      ]
     },
     "execution_count": 166,
     "metadata": {},
     "output_type": "execute_result"
    }
   ],
   "source": [
    "list(train)"
   ]
  },
  {
   "cell_type": "code",
   "execution_count": 194,
   "metadata": {},
   "outputs": [
    {
     "data": {
      "text/plain": [
       "0      3367\n",
       "1      1480\n",
       "2       829\n",
       "3       481\n",
       "4       357\n",
       "5       262\n",
       "6       200\n",
       "8       176\n",
       "7       157\n",
       "9       144\n",
       "10      124\n",
       "12      110\n",
       "11      100\n",
       "14       88\n",
       "13       83\n",
       "15       67\n",
       "16       61\n",
       "18       52\n",
       "17       51\n",
       "19       41\n",
       "20       39\n",
       "22       37\n",
       "21       36\n",
       "26       23\n",
       "28       21\n",
       "23       21\n",
       "25       17\n",
       "27       15\n",
       "24       14\n",
       "30        9\n",
       "       ... \n",
       "39        3\n",
       "33        3\n",
       "47        3\n",
       "37        3\n",
       "38        3\n",
       "45        2\n",
       "56        2\n",
       "76        2\n",
       "53        2\n",
       "43        2\n",
       "67        2\n",
       "70        2\n",
       "104       1\n",
       "72        1\n",
       "48        1\n",
       "80        1\n",
       "46        1\n",
       "57        1\n",
       "74        1\n",
       "122       1\n",
       "78        1\n",
       "51        1\n",
       "55        1\n",
       "44        1\n",
       "140       1\n",
       "62        1\n",
       "69        1\n",
       "77        1\n",
       "54        1\n",
       "63        1\n",
       "Name: PatioCount, Length: 67, dtype: int64"
      ]
     },
     "execution_count": 194,
     "metadata": {},
     "output_type": "execute_result"
    }
   ],
   "source": [
    "train['PatioCount'].value_counts()"
   ]
  },
  {
   "cell_type": "code",
   "execution_count": 206,
   "metadata": {},
   "outputs": [
    {
     "data": {
      "text/plain": [
       "<matplotlib.collections.PathCollection at 0x1f1dd2f4f98>"
      ]
     },
     "execution_count": 206,
     "metadata": {},
     "output_type": "execute_result"
    },
    {
     "data": {
      "image/png": "[encoded data removed]",
      "text/plain": [
       "<Figure size 432x288 with 1 Axes>"
      ]
     },
     "metadata": {
      "needs_background": "light"
     },
     "output_type": "display_data"
    }
   ],
   "source": [
    "plt.scatter(train['zoneType'], )"
   ]
  },
  {
   "cell_type": "code",
   "execution_count": 162,
   "metadata": {},
   "outputs": [],
   "source": [
    "gravelSandpit = []\n",
    "dam = []\n",
    "sideWalk = []\n",
    "percentStructureArea = []\n",
    "structCount = []\n",
    "\n",
    "for i in train.index:\n",
    "    gsVal = train.loc[i,'Gravel/SandpitCount']\n",
    "    if gsVal > 0:\n",
    "        gravelSandpit.append(1)\n",
    "    else:\n",
    "        gravelSandpit.append(0)\n",
    "        \n",
    "    damVal = train.loc[i, 'DamCount']\n",
    "    if damVal > 0:\n",
    "        dam.append(1)\n",
    "    else:\n",
    "        dam.append(0)\n",
    "        \n",
    "    structVal = train.loc[i, 'percentStructureArea']\n",
    "    if structVal > train['percentStructureArea'].mean() + train['percentStructureArea'].quantile(q=0.75):\n",
    "        percentStructureArea.append(\"Large\")\n",
    "    else:\n",
    "        percentStructureArea.append(\"Small\")\n",
    "        \n",
    "    scVal = train.loc[i, 'StructureCount']\n",
    "    if scVal > train['StructureCount'].mean() + train['StructureCount'].quantile(q=0.75):\n",
    "        structCount.append(\"Many\")\n",
    "    else:\n",
    "        structCount.append(\"Few\")"
   ]
  },
  {
   "cell_type": "code",
   "execution_count": 163,
   "metadata": {},
   "outputs": [
    {
     "data": {
      "text/plain": [
       "Small    8002\n",
       "Large     546\n",
       "dtype: int64"
      ]
     },
     "execution_count": 163,
     "metadata": {},
     "output_type": "execute_result"
    }
   ],
   "source": [
    "pd.Series(percentStructureArea).value_counts()"
   ]
  },
  {
   "cell_type": "code",
   "execution_count": 164,
   "metadata": {},
   "outputs": [],
   "source": [
    "for i in train.index:\n",
    "    urVal = train.loc[i, 'Unpaved RoadCount']\n",
    "    if urVal > 0\n",
    "        .append(1)\n",
    "    else:\n",
    "        sideWalk.append(0)"
   ]
  },
  {
   "cell_type": "code",
   "execution_count": 131,
   "metadata": {},
   "outputs": [
    {
     "data": {
      "text/plain": [
       "27.819255966307907"
      ]
     },
     "execution_count": 131,
     "metadata": {},
     "output_type": "execute_result"
    }
   ],
   "source": [
    "train['StructureCount'].mean() + train['StructureCount'].quantile(q=0.75)"
   ]
  },
  {
   "cell_type": "code",
   "execution_count": 170,
   "metadata": {},
   "outputs": [],
   "source": [
    "unpavedRoad = []\n",
    "for i in train.index:\n",
    "    swVal = train.loc[i, 'Unpaved RoadCount']\n",
    "    if scVal > 0:\n",
    "        unpavedRoad.append(1)\n",
    "    else:\n",
    "        unpavedRoad.append(0)"
   ]
  },
  {
   "cell_type": "code",
   "execution_count": 180,
   "metadata": {},
   "outputs": [],
   "source": [
    "trail = []\n",
    "for i in train.index:\n",
    "    tVal = train.loc[i, 'TrailCount']\n",
    "    if tVal > 0:\n",
    "        trail.append(1)\n",
    "    else:\n",
    "        trail.append(0)"
   ]
  },
  {
   "cell_type": "code",
   "execution_count": 184,
   "metadata": {},
   "outputs": [],
   "source": [
    "pavedAlley = []\n",
    "for i in train.index:\n",
    "    pVal = train.loc[i, 'Paved AlleyCount']\n",
    "    if pVal > 0:\n",
    "        pavedAlley.append(1)\n",
    "    else:\n",
    "        pavedAlley.append(0)"
   ]
  },
  {
   "cell_type": "code",
   "execution_count": 207,
   "metadata": {},
   "outputs": [],
   "source": [
    "structureRatio = []\n",
    "for i in train.index:\n",
    "    if train.loc[i, 'percentStructureArea'] == 0:\n",
    "        structureRatio.append(0)\n",
    "    else:\n",
    "        sVal = train.loc[i, 'StructureCount']/train.loc[i, 'percentStructureArea']\n",
    "        structureRatio.append(sVal)"
   ]
  },
  {
   "cell_type": "code",
   "execution_count": 213,
   "metadata": {},
   "outputs": [],
   "source": [
    "recScore = []\n",
    "for i in train.index:\n",
    "    rVal = train.loc[i, 'Open SpaceCount']+train.loc[i, 'Unpaved Athletic FieldCount']+train['Recreation Court/Ball FieldCount']\n",
    "    recScore.append(rVal)"
   ]
  },
  {
   "cell_type": "code",
   "execution_count": 218,
   "metadata": {},
   "outputs": [],
   "source": [
    "train['recScore'] = recScore"
   ]
  },
  {
   "cell_type": "code",
   "execution_count": null,
   "metadata": {},
   "outputs": [],
   "source": [
    "train['recScore'].describe()"
   ]
  },
  {
   "cell_type": "code",
   "execution_count": 195,
   "metadata": {},
   "outputs": [],
   "source": [
    "structRatio = []\n",
    "\n",
    "for i in train.index:\n",
    "    sVal = train.loc[i, 'structureRatio']\n",
    "    if sVal > (train['structureRatio'].mean() + train['structureRatio'].quantile(q=0.75)):\n",
    "        structRatio.append('large')\n",
    "    else:\n",
    "        structRatio.append('small')"
   ]
  },
  {
   "cell_type": "code",
   "execution_count": 216,
   "metadata": {},
   "outputs": [],
   "source": [
    "sidewalkArea = []\n",
    "\n",
    "for i in train.index:\n",
    "    sVal = train.loc[i, 'percentSidewalkArea']\n",
    "    if sVal > (train['percentSidewalkArea'].mean() + train['percentSidewalkArea'].quantile(q=0.75)):\n",
    "        sidewalkArea.append('large')\n",
    "    else:\n",
    "        sidewalkArea.append('small')"
   ]
  },
  {
   "cell_type": "code",
   "execution_count": 220,
   "metadata": {},
   "outputs": [
    {
     "ename": "TypeError",
     "evalue": "Could not convert 0        920\n1        920\n2        920\n3        920\n4        920\n5        920\n6        920\n7        920\n8        920\n9        920\n10       920\n11       920\n12       920\n13       920\n14       920\n15       920\n16       920\n17       920\n18       920\n19       920\n20       920\n21       920\n22       920\n23       920\n24       920\n25       920\n26       920\n27       920\n28       920\n29       920\n        ... \n8518     920\n8519     920\n8520     920\n8521     920\n8522     920\n8523     920\n8524     920\n8525     920\n8526     920\n8527     920\n8528     920\n8529     920\n8530     920\n8531     920\n8532     920\n8533     920\n8534     920\n8535     920\n8536     920\n8537     920\n8538     920\n8539     920\n8540     920\n8541     920\n8542     920\n8543     920\n8544     920\n8545     920\n8546    9468\n8547     920\nName: Recreation Court/Ball FieldCount, Length: 8548, dtype: int64 to numeric",
     "output_type": "error",
     "traceback": [
      "\u001b[1;31m---------------------------------------------------------------------------\u001b[0m",
      "\u001b[1;31mTypeError\u001b[0m                                 Traceback (most recent call last)",
      "\u001b[1;32mc:\\users\\daniel\\documents\\github\\coa-zone-prediction\\venv\\lib\\site-packages\\pandas\\core\\nanops.py\u001b[0m in \u001b[0;36m_ensure_numeric\u001b[1;34m(x)\u001b[0m\n\u001b[0;32m   1163\u001b[0m         \u001b[1;32mtry\u001b[0m\u001b[1;33m:\u001b[0m\u001b[1;33m\u001b[0m\u001b[0m\n\u001b[1;32m-> 1164\u001b[1;33m             \u001b[0mx\u001b[0m \u001b[1;33m=\u001b[0m \u001b[0mfloat\u001b[0m\u001b[1;33m(\u001b[0m\u001b[0mx\u001b[0m\u001b[1;33m)\u001b[0m\u001b[1;33m\u001b[0m\u001b[0m\n\u001b[0m\u001b[0;32m   1165\u001b[0m         \u001b[1;32mexcept\u001b[0m \u001b[0mException\u001b[0m\u001b[1;33m:\u001b[0m\u001b[1;33m\u001b[0m\u001b[0m\n",
      "\u001b[1;32mc:\\users\\daniel\\documents\\github\\coa-zone-prediction\\venv\\lib\\site-packages\\pandas\\core\\series.py\u001b[0m in \u001b[0;36mwrapper\u001b[1;34m(self)\u001b[0m\n\u001b[0;32m     92\u001b[0m         raise TypeError(\"cannot convert the series to \"\n\u001b[1;32m---> 93\u001b[1;33m                         \"{0}\".format(str(converter)))\n\u001b[0m\u001b[0;32m     94\u001b[0m \u001b[1;33m\u001b[0m\u001b[0m\n",
      "\u001b[1;31mTypeError\u001b[0m: cannot convert the series to <class 'float'>",
      "\nDuring handling of the above exception, another exception occurred:\n",
      "\u001b[1;31mTypeError\u001b[0m                                 Traceback (most recent call last)",
      "\u001b[1;32mc:\\users\\daniel\\documents\\github\\coa-zone-prediction\\venv\\lib\\site-packages\\pandas\\core\\nanops.py\u001b[0m in \u001b[0;36m_ensure_numeric\u001b[1;34m(x)\u001b[0m\n\u001b[0;32m   1166\u001b[0m             \u001b[1;32mtry\u001b[0m\u001b[1;33m:\u001b[0m\u001b[1;33m\u001b[0m\u001b[0m\n\u001b[1;32m-> 1167\u001b[1;33m                 \u001b[0mx\u001b[0m \u001b[1;33m=\u001b[0m \u001b[0mcomplex\u001b[0m\u001b[1;33m(\u001b[0m\u001b[0mx\u001b[0m\u001b[1;33m)\u001b[0m\u001b[1;33m\u001b[0m\u001b[0m\n\u001b[0m\u001b[0;32m   1168\u001b[0m             \u001b[1;32mexcept\u001b[0m \u001b[0mException\u001b[0m\u001b[1;33m:\u001b[0m\u001b[1;33m\u001b[0m\u001b[0m\n",
      "\u001b[1;32mc:\\users\\daniel\\documents\\github\\coa-zone-prediction\\venv\\lib\\site-packages\\pandas\\core\\series.py\u001b[0m in \u001b[0;36mwrapper\u001b[1;34m(self)\u001b[0m\n\u001b[0;32m     92\u001b[0m         raise TypeError(\"cannot convert the series to \"\n\u001b[1;32m---> 93\u001b[1;33m                         \"{0}\".format(str(converter)))\n\u001b[0m\u001b[0;32m     94\u001b[0m \u001b[1;33m\u001b[0m\u001b[0m\n",
      "\u001b[1;31mTypeError\u001b[0m: cannot convert the series to <class 'float'>",
      "\nDuring handling of the above exception, another exception occurred:\n",
      "\u001b[1;31mTypeError\u001b[0m                                 Traceback (most recent call last)",
      "\u001b[1;32mc:\\users\\daniel\\documents\\github\\coa-zone-prediction\\venv\\lib\\site-packages\\pandas\\core\\nanops.py\u001b[0m in \u001b[0;36mf\u001b[1;34m(values, axis, skipna, **kwds)\u001b[0m\n\u001b[0;32m    126\u001b[0m                 \u001b[1;32melse\u001b[0m\u001b[1;33m:\u001b[0m\u001b[1;33m\u001b[0m\u001b[0m\n\u001b[1;32m--> 127\u001b[1;33m                     \u001b[0mresult\u001b[0m \u001b[1;33m=\u001b[0m \u001b[0malt\u001b[0m\u001b[1;33m(\u001b[0m\u001b[0mvalues\u001b[0m\u001b[1;33m,\u001b[0m \u001b[0maxis\u001b[0m\u001b[1;33m=\u001b[0m\u001b[0maxis\u001b[0m\u001b[1;33m,\u001b[0m \u001b[0mskipna\u001b[0m\u001b[1;33m=\u001b[0m\u001b[0mskipna\u001b[0m\u001b[1;33m,\u001b[0m \u001b[1;33m**\u001b[0m\u001b[0mkwds\u001b[0m\u001b[1;33m)\u001b[0m\u001b[1;33m\u001b[0m\u001b[0m\n\u001b[0m\u001b[0;32m    128\u001b[0m             \u001b[1;32mexcept\u001b[0m \u001b[0mException\u001b[0m\u001b[1;33m:\u001b[0m\u001b[1;33m\u001b[0m\u001b[0m\n",
      "\u001b[1;32mc:\\users\\daniel\\documents\\github\\coa-zone-prediction\\venv\\lib\\site-packages\\pandas\\core\\nanops.py\u001b[0m in \u001b[0;36mnanmean\u001b[1;34m(values, axis, skipna, mask)\u001b[0m\n\u001b[0;32m    478\u001b[0m     \u001b[0mcount\u001b[0m \u001b[1;33m=\u001b[0m \u001b[0m_get_counts\u001b[0m\u001b[1;33m(\u001b[0m\u001b[0mmask\u001b[0m\u001b[1;33m,\u001b[0m \u001b[0maxis\u001b[0m\u001b[1;33m,\u001b[0m \u001b[0mdtype\u001b[0m\u001b[1;33m=\u001b[0m\u001b[0mdtype_count\u001b[0m\u001b[1;33m)\u001b[0m\u001b[1;33m\u001b[0m\u001b[0m\n\u001b[1;32m--> 479\u001b[1;33m     \u001b[0mthe_sum\u001b[0m \u001b[1;33m=\u001b[0m \u001b[0m_ensure_numeric\u001b[0m\u001b[1;33m(\u001b[0m\u001b[0mvalues\u001b[0m\u001b[1;33m.\u001b[0m\u001b[0msum\u001b[0m\u001b[1;33m(\u001b[0m\u001b[0maxis\u001b[0m\u001b[1;33m,\u001b[0m \u001b[0mdtype\u001b[0m\u001b[1;33m=\u001b[0m\u001b[0mdtype_sum\u001b[0m\u001b[1;33m)\u001b[0m\u001b[1;33m)\u001b[0m\u001b[1;33m\u001b[0m\u001b[0m\n\u001b[0m\u001b[0;32m    480\u001b[0m \u001b[1;33m\u001b[0m\u001b[0m\n",
      "\u001b[1;32mc:\\users\\daniel\\documents\\github\\coa-zone-prediction\\venv\\lib\\site-packages\\pandas\\core\\nanops.py\u001b[0m in \u001b[0;36m_ensure_numeric\u001b[1;34m(x)\u001b[0m\n\u001b[0;32m   1169\u001b[0m                 raise TypeError('Could not convert {value!s} to numeric'\n\u001b[1;32m-> 1170\u001b[1;33m                                 .format(value=x))\n\u001b[0m\u001b[0;32m   1171\u001b[0m     \u001b[1;32mreturn\u001b[0m \u001b[0mx\u001b[0m\u001b[1;33m\u001b[0m\u001b[0m\n",
      "\u001b[1;31mTypeError\u001b[0m: Could not convert 0        920\n1        920\n2        920\n3        920\n4        920\n5        920\n6        920\n7        920\n8        920\n9        920\n10       920\n11       920\n12       920\n13       920\n14       920\n15       920\n16       920\n17       920\n18       920\n19       920\n20       920\n21       920\n22       920\n23       920\n24       920\n25       920\n26       920\n27       920\n28       920\n29       920\n        ... \n8518     920\n8519     920\n8520     920\n8521     920\n8522     920\n8523     920\n8524     920\n8525     920\n8526     920\n8527     920\n8528     920\n8529     920\n8530     920\n8531     920\n8532     920\n8533     920\n8534     920\n8535     920\n8536     920\n8537     920\n8538     920\n8539     920\n8540     920\n8541     920\n8542     920\n8543     920\n8544     920\n8545     920\n8546    9468\n8547     920\nName: Recreation Court/Ball FieldCount, Length: 8548, dtype: int64 to numeric",
      "\nDuring handling of the above exception, another exception occurred:\n",
      "\u001b[1;31mTypeError\u001b[0m                                 Traceback (most recent call last)",
      "\u001b[1;32mc:\\users\\daniel\\documents\\github\\coa-zone-prediction\\venv\\lib\\site-packages\\pandas\\core\\nanops.py\u001b[0m in \u001b[0;36m_ensure_numeric\u001b[1;34m(x)\u001b[0m\n\u001b[0;32m   1163\u001b[0m         \u001b[1;32mtry\u001b[0m\u001b[1;33m:\u001b[0m\u001b[1;33m\u001b[0m\u001b[0m\n\u001b[1;32m-> 1164\u001b[1;33m             \u001b[0mx\u001b[0m \u001b[1;33m=\u001b[0m \u001b[0mfloat\u001b[0m\u001b[1;33m(\u001b[0m\u001b[0mx\u001b[0m\u001b[1;33m)\u001b[0m\u001b[1;33m\u001b[0m\u001b[0m\n\u001b[0m\u001b[0;32m   1165\u001b[0m         \u001b[1;32mexcept\u001b[0m \u001b[0mException\u001b[0m\u001b[1;33m:\u001b[0m\u001b[1;33m\u001b[0m\u001b[0m\n",
      "\u001b[1;32mc:\\users\\daniel\\documents\\github\\coa-zone-prediction\\venv\\lib\\site-packages\\pandas\\core\\series.py\u001b[0m in \u001b[0;36mwrapper\u001b[1;34m(self)\u001b[0m\n\u001b[0;32m     92\u001b[0m         raise TypeError(\"cannot convert the series to \"\n\u001b[1;32m---> 93\u001b[1;33m                         \"{0}\".format(str(converter)))\n\u001b[0m\u001b[0;32m     94\u001b[0m \u001b[1;33m\u001b[0m\u001b[0m\n",
      "\u001b[1;31mTypeError\u001b[0m: cannot convert the series to <class 'float'>",
      "\nDuring handling of the above exception, another exception occurred:\n",
      "\u001b[1;31mTypeError\u001b[0m                                 Traceback (most recent call last)",
      "\u001b[1;32mc:\\users\\daniel\\documents\\github\\coa-zone-prediction\\venv\\lib\\site-packages\\pandas\\core\\nanops.py\u001b[0m in \u001b[0;36m_ensure_numeric\u001b[1;34m(x)\u001b[0m\n\u001b[0;32m   1166\u001b[0m             \u001b[1;32mtry\u001b[0m\u001b[1;33m:\u001b[0m\u001b[1;33m\u001b[0m\u001b[0m\n\u001b[1;32m-> 1167\u001b[1;33m                 \u001b[0mx\u001b[0m \u001b[1;33m=\u001b[0m \u001b[0mcomplex\u001b[0m\u001b[1;33m(\u001b[0m\u001b[0mx\u001b[0m\u001b[1;33m)\u001b[0m\u001b[1;33m\u001b[0m\u001b[0m\n\u001b[0m\u001b[0;32m   1168\u001b[0m             \u001b[1;32mexcept\u001b[0m \u001b[0mException\u001b[0m\u001b[1;33m:\u001b[0m\u001b[1;33m\u001b[0m\u001b[0m\n",
      "\u001b[1;32mc:\\users\\daniel\\documents\\github\\coa-zone-prediction\\venv\\lib\\site-packages\\pandas\\core\\series.py\u001b[0m in \u001b[0;36mwrapper\u001b[1;34m(self)\u001b[0m\n\u001b[0;32m     92\u001b[0m         raise TypeError(\"cannot convert the series to \"\n\u001b[1;32m---> 93\u001b[1;33m                         \"{0}\".format(str(converter)))\n\u001b[0m\u001b[0;32m     94\u001b[0m \u001b[1;33m\u001b[0m\u001b[0m\n",
      "\u001b[1;31mTypeError\u001b[0m: cannot convert the series to <class 'float'>",
      "\nDuring handling of the above exception, another exception occurred:\n",
      "\u001b[1;31mTypeError\u001b[0m                                 Traceback (most recent call last)",
      "\u001b[1;32m<ipython-input-220-4369f528ff06>\u001b[0m in \u001b[0;36m<module>\u001b[1;34m\u001b[0m\n\u001b[0;32m      3\u001b[0m \u001b[1;32mfor\u001b[0m \u001b[0mi\u001b[0m \u001b[1;32min\u001b[0m \u001b[0mtrain\u001b[0m\u001b[1;33m.\u001b[0m\u001b[0mindex\u001b[0m\u001b[1;33m:\u001b[0m\u001b[1;33m\u001b[0m\u001b[0m\n\u001b[0;32m      4\u001b[0m     \u001b[0mrVal\u001b[0m \u001b[1;33m=\u001b[0m \u001b[0mtrain\u001b[0m\u001b[1;33m.\u001b[0m\u001b[0mloc\u001b[0m\u001b[1;33m[\u001b[0m\u001b[0mi\u001b[0m\u001b[1;33m,\u001b[0m \u001b[1;34m'recScore'\u001b[0m\u001b[1;33m]\u001b[0m\u001b[1;33m\u001b[0m\u001b[0m\n\u001b[1;32m----> 5\u001b[1;33m     \u001b[1;32mif\u001b[0m \u001b[0mrVal\u001b[0m \u001b[1;33m>\u001b[0m \u001b[0mtrain\u001b[0m\u001b[1;33m[\u001b[0m\u001b[1;34m'recScore'\u001b[0m\u001b[1;33m]\u001b[0m\u001b[1;33m.\u001b[0m\u001b[0mmean\u001b[0m\u001b[1;33m(\u001b[0m\u001b[1;33m)\u001b[0m \u001b[1;33m+\u001b[0m \u001b[0mtrain\u001b[0m\u001b[1;33m[\u001b[0m\u001b[1;34m'recScore'\u001b[0m\u001b[1;33m]\u001b[0m\u001b[1;33m.\u001b[0m\u001b[0mquantile\u001b[0m\u001b[1;33m(\u001b[0m\u001b[0mq\u001b[0m\u001b[1;33m=\u001b[0m\u001b[1;36m0.75\u001b[0m\u001b[1;33m)\u001b[0m\u001b[1;33m:\u001b[0m\u001b[1;33m\u001b[0m\u001b[0m\n\u001b[0m\u001b[0;32m      6\u001b[0m         \u001b[0mrecreationScore\u001b[0m\u001b[1;33m.\u001b[0m\u001b[0mappend\u001b[0m\u001b[1;33m(\u001b[0m\u001b[1;34m'large'\u001b[0m\u001b[1;33m)\u001b[0m\u001b[1;33m\u001b[0m\u001b[0m\n\u001b[0;32m      7\u001b[0m     \u001b[1;32melse\u001b[0m\u001b[1;33m:\u001b[0m\u001b[1;33m\u001b[0m\u001b[0m\n",
      "\u001b[1;32mc:\\users\\daniel\\documents\\github\\coa-zone-prediction\\venv\\lib\\site-packages\\pandas\\core\\generic.py\u001b[0m in \u001b[0;36mstat_func\u001b[1;34m(self, axis, skipna, level, numeric_only, **kwargs)\u001b[0m\n\u001b[0;32m  10954\u001b[0m                                       skipna=skipna)\n\u001b[0;32m  10955\u001b[0m         return self._reduce(f, name, axis=axis, skipna=skipna,\n\u001b[1;32m> 10956\u001b[1;33m                             numeric_only=numeric_only)\n\u001b[0m\u001b[0;32m  10957\u001b[0m \u001b[1;33m\u001b[0m\u001b[0m\n\u001b[0;32m  10958\u001b[0m     \u001b[1;32mreturn\u001b[0m \u001b[0mset_function_name\u001b[0m\u001b[1;33m(\u001b[0m\u001b[0mstat_func\u001b[0m\u001b[1;33m,\u001b[0m \u001b[0mname\u001b[0m\u001b[1;33m,\u001b[0m \u001b[0mcls\u001b[0m\u001b[1;33m)\u001b[0m\u001b[1;33m\u001b[0m\u001b[0m\n",
      "\u001b[1;32mc:\\users\\daniel\\documents\\github\\coa-zone-prediction\\venv\\lib\\site-packages\\pandas\\core\\series.py\u001b[0m in \u001b[0;36m_reduce\u001b[1;34m(self, op, name, axis, skipna, numeric_only, filter_type, **kwds)\u001b[0m\n\u001b[0;32m   3628\u001b[0m                                           'numeric_only.'.format(name))\n\u001b[0;32m   3629\u001b[0m             \u001b[1;32mwith\u001b[0m \u001b[0mnp\u001b[0m\u001b[1;33m.\u001b[0m\u001b[0merrstate\u001b[0m\u001b[1;33m(\u001b[0m\u001b[0mall\u001b[0m\u001b[1;33m=\u001b[0m\u001b[1;34m'ignore'\u001b[0m\u001b[1;33m)\u001b[0m\u001b[1;33m:\u001b[0m\u001b[1;33m\u001b[0m\u001b[0m\n\u001b[1;32m-> 3630\u001b[1;33m                 \u001b[1;32mreturn\u001b[0m \u001b[0mop\u001b[0m\u001b[1;33m(\u001b[0m\u001b[0mdelegate\u001b[0m\u001b[1;33m,\u001b[0m \u001b[0mskipna\u001b[0m\u001b[1;33m=\u001b[0m\u001b[0mskipna\u001b[0m\u001b[1;33m,\u001b[0m \u001b[1;33m**\u001b[0m\u001b[0mkwds\u001b[0m\u001b[1;33m)\u001b[0m\u001b[1;33m\u001b[0m\u001b[0m\n\u001b[0m\u001b[0;32m   3631\u001b[0m \u001b[1;33m\u001b[0m\u001b[0m\n\u001b[0;32m   3632\u001b[0m         \u001b[1;31m# TODO(EA) dispatch to Index\u001b[0m\u001b[1;33m\u001b[0m\u001b[1;33m\u001b[0m\u001b[0m\n",
      "\u001b[1;32mc:\\users\\daniel\\documents\\github\\coa-zone-prediction\\venv\\lib\\site-packages\\pandas\\core\\nanops.py\u001b[0m in \u001b[0;36m_f\u001b[1;34m(*args, **kwargs)\u001b[0m\n\u001b[0;32m     74\u001b[0m             \u001b[1;32mtry\u001b[0m\u001b[1;33m:\u001b[0m\u001b[1;33m\u001b[0m\u001b[0m\n\u001b[0;32m     75\u001b[0m                 \u001b[1;32mwith\u001b[0m \u001b[0mnp\u001b[0m\u001b[1;33m.\u001b[0m\u001b[0merrstate\u001b[0m\u001b[1;33m(\u001b[0m\u001b[0minvalid\u001b[0m\u001b[1;33m=\u001b[0m\u001b[1;34m'ignore'\u001b[0m\u001b[1;33m)\u001b[0m\u001b[1;33m:\u001b[0m\u001b[1;33m\u001b[0m\u001b[0m\n\u001b[1;32m---> 76\u001b[1;33m                     \u001b[1;32mreturn\u001b[0m \u001b[0mf\u001b[0m\u001b[1;33m(\u001b[0m\u001b[1;33m*\u001b[0m\u001b[0margs\u001b[0m\u001b[1;33m,\u001b[0m \u001b[1;33m**\u001b[0m\u001b[0mkwargs\u001b[0m\u001b[1;33m)\u001b[0m\u001b[1;33m\u001b[0m\u001b[0m\n\u001b[0m\u001b[0;32m     77\u001b[0m             \u001b[1;32mexcept\u001b[0m \u001b[0mValueError\u001b[0m \u001b[1;32mas\u001b[0m \u001b[0me\u001b[0m\u001b[1;33m:\u001b[0m\u001b[1;33m\u001b[0m\u001b[0m\n\u001b[0;32m     78\u001b[0m                 \u001b[1;31m# we want to transform an object array\u001b[0m\u001b[1;33m\u001b[0m\u001b[1;33m\u001b[0m\u001b[0m\n",
      "\u001b[1;32mc:\\users\\daniel\\documents\\github\\coa-zone-prediction\\venv\\lib\\site-packages\\pandas\\core\\nanops.py\u001b[0m in \u001b[0;36mf\u001b[1;34m(values, axis, skipna, **kwds)\u001b[0m\n\u001b[0;32m    128\u001b[0m             \u001b[1;32mexcept\u001b[0m \u001b[0mException\u001b[0m\u001b[1;33m:\u001b[0m\u001b[1;33m\u001b[0m\u001b[0m\n\u001b[0;32m    129\u001b[0m                 \u001b[1;32mtry\u001b[0m\u001b[1;33m:\u001b[0m\u001b[1;33m\u001b[0m\u001b[0m\n\u001b[1;32m--> 130\u001b[1;33m                     \u001b[0mresult\u001b[0m \u001b[1;33m=\u001b[0m \u001b[0malt\u001b[0m\u001b[1;33m(\u001b[0m\u001b[0mvalues\u001b[0m\u001b[1;33m,\u001b[0m \u001b[0maxis\u001b[0m\u001b[1;33m=\u001b[0m\u001b[0maxis\u001b[0m\u001b[1;33m,\u001b[0m \u001b[0mskipna\u001b[0m\u001b[1;33m=\u001b[0m\u001b[0mskipna\u001b[0m\u001b[1;33m,\u001b[0m \u001b[1;33m**\u001b[0m\u001b[0mkwds\u001b[0m\u001b[1;33m)\u001b[0m\u001b[1;33m\u001b[0m\u001b[0m\n\u001b[0m\u001b[0;32m    131\u001b[0m                 \u001b[1;32mexcept\u001b[0m \u001b[0mValueError\u001b[0m \u001b[1;32mas\u001b[0m \u001b[0me\u001b[0m\u001b[1;33m:\u001b[0m\u001b[1;33m\u001b[0m\u001b[0m\n\u001b[0;32m    132\u001b[0m                     \u001b[1;31m# we want to transform an object array\u001b[0m\u001b[1;33m\u001b[0m\u001b[1;33m\u001b[0m\u001b[0m\n",
      "\u001b[1;32mc:\\users\\daniel\\documents\\github\\coa-zone-prediction\\venv\\lib\\site-packages\\pandas\\core\\nanops.py\u001b[0m in \u001b[0;36mnanmean\u001b[1;34m(values, axis, skipna, mask)\u001b[0m\n\u001b[0;32m    477\u001b[0m         \u001b[0mdtype_count\u001b[0m \u001b[1;33m=\u001b[0m \u001b[0mdtype\u001b[0m\u001b[1;33m\u001b[0m\u001b[0m\n\u001b[0;32m    478\u001b[0m     \u001b[0mcount\u001b[0m \u001b[1;33m=\u001b[0m \u001b[0m_get_counts\u001b[0m\u001b[1;33m(\u001b[0m\u001b[0mmask\u001b[0m\u001b[1;33m,\u001b[0m \u001b[0maxis\u001b[0m\u001b[1;33m,\u001b[0m \u001b[0mdtype\u001b[0m\u001b[1;33m=\u001b[0m\u001b[0mdtype_count\u001b[0m\u001b[1;33m)\u001b[0m\u001b[1;33m\u001b[0m\u001b[0m\n\u001b[1;32m--> 479\u001b[1;33m     \u001b[0mthe_sum\u001b[0m \u001b[1;33m=\u001b[0m \u001b[0m_ensure_numeric\u001b[0m\u001b[1;33m(\u001b[0m\u001b[0mvalues\u001b[0m\u001b[1;33m.\u001b[0m\u001b[0msum\u001b[0m\u001b[1;33m(\u001b[0m\u001b[0maxis\u001b[0m\u001b[1;33m,\u001b[0m \u001b[0mdtype\u001b[0m\u001b[1;33m=\u001b[0m\u001b[0mdtype_sum\u001b[0m\u001b[1;33m)\u001b[0m\u001b[1;33m)\u001b[0m\u001b[1;33m\u001b[0m\u001b[0m\n\u001b[0m\u001b[0;32m    480\u001b[0m \u001b[1;33m\u001b[0m\u001b[0m\n\u001b[0;32m    481\u001b[0m     \u001b[1;32mif\u001b[0m \u001b[0maxis\u001b[0m \u001b[1;32mis\u001b[0m \u001b[1;32mnot\u001b[0m \u001b[1;32mNone\u001b[0m \u001b[1;32mand\u001b[0m \u001b[0mgetattr\u001b[0m\u001b[1;33m(\u001b[0m\u001b[0mthe_sum\u001b[0m\u001b[1;33m,\u001b[0m \u001b[1;34m'ndim'\u001b[0m\u001b[1;33m,\u001b[0m \u001b[1;32mFalse\u001b[0m\u001b[1;33m)\u001b[0m\u001b[1;33m:\u001b[0m\u001b[1;33m\u001b[0m\u001b[0m\n",
      "\u001b[1;32mc:\\users\\daniel\\documents\\github\\coa-zone-prediction\\venv\\lib\\site-packages\\pandas\\core\\nanops.py\u001b[0m in \u001b[0;36m_ensure_numeric\u001b[1;34m(x)\u001b[0m\n\u001b[0;32m   1168\u001b[0m             \u001b[1;32mexcept\u001b[0m \u001b[0mException\u001b[0m\u001b[1;33m:\u001b[0m\u001b[1;33m\u001b[0m\u001b[0m\n\u001b[0;32m   1169\u001b[0m                 raise TypeError('Could not convert {value!s} to numeric'\n\u001b[1;32m-> 1170\u001b[1;33m                                 .format(value=x))\n\u001b[0m\u001b[0;32m   1171\u001b[0m     \u001b[1;32mreturn\u001b[0m \u001b[0mx\u001b[0m\u001b[1;33m\u001b[0m\u001b[0m\n\u001b[0;32m   1172\u001b[0m \u001b[1;33m\u001b[0m\u001b[0m\n",
      "\u001b[1;31mTypeError\u001b[0m: Could not convert 0        920\n1        920\n2        920\n3        920\n4        920\n5        920\n6        920\n7        920\n8        920\n9        920\n10       920\n11       920\n12       920\n13       920\n14       920\n15       920\n16       920\n17       920\n18       920\n19       920\n20       920\n21       920\n22       920\n23       920\n24       920\n25       920\n26       920\n27       920\n28       920\n29       920\n        ... \n8518     920\n8519     920\n8520     920\n8521     920\n8522     920\n8523     920\n8524     920\n8525     920\n8526     920\n8527     920\n8528     920\n8529     920\n8530     920\n8531     920\n8532     920\n8533     920\n8534     920\n8535     920\n8536     920\n8537     920\n8538     920\n8539     920\n8540     920\n8541     920\n8542     920\n8543     920\n8544     920\n8545     920\n8546    9468\n8547     920\nName: Recreation Court/Ball FieldCount, Length: 8548, dtype: int64 to numeric"
     ]
    }
   ],
   "source": [
    "recreationScore = []\n",
    "\n",
    "for i in train.index:\n",
    "    rVal = train.loc[i, 'recScore']\n",
    "    if rVal > train['recScore'].mean() + train['recScore'].quantile(q=0.75):\n",
    "        recreationScore.append('large')\n",
    "    else:\n",
    "        recreationScore.append('small')"
   ]
  },
  {
   "cell_type": "code",
   "execution_count": 161,
   "metadata": {},
   "outputs": [],
   "source": [
    "newTrainData = pd.DataFrame()"
   ]
  },
  {
   "cell_type": "code",
   "execution_count": null,
   "metadata": {},
   "outputs": [],
   "source": [
    "newTrainData['structCount'] = structCount\n",
    "newTrainData['percentStructArea'] = percentStructureArea\n",
    "newTrainData['sidewalk'] = sideWalk\n",
    "newTrainData['dam'] = dam\n",
    "newTrainData['gravelSandpit'] = gravelSandpit\n",
    "newTrainData['unpavedRoad'] = unpavedRoad\n",
    "newTrainData['trail'] = trail\n",
    "newTrainData['pavedAlley'] = pavedAlley\n",
    "newTrainData['structRatio'] = structRatio\n",
    "newTrainData['sidewalkArea'] = sidewalkArea"
   ]
  }
 ],
 "metadata": {
  "kernelspec": {
   "display_name": "Python 3",
   "language": "python",
   "name": "python3"
  },
  "language_info": {
   "codemirror_mode": {
    "name": "ipython",
    "version": 3
   },
   "file_extension": ".py",
   "mimetype": "text/x-python",
   "name": "python",
   "nbconvert_exporter": "python",
   "pygments_lexer": "ipython3",
   "version": "3.6.4"
  }
 },
 "nbformat": 4,
 "nbformat_minor": 2
}
