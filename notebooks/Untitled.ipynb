{
 "cells": [
  {
   "cell_type": "code",
   "execution_count": 1,
   "metadata": {},
   "outputs": [],
   "source": [
    "import pandas as pd\n",
    "import matplotlib.pyplot as plt"
   ]
  },
  {
   "cell_type": "code",
   "execution_count": 2,
   "metadata": {},
   "outputs": [
    {
     "data": {
      "text/plain": [
       "['zoneID',\n",
       " 'zoneArea',\n",
       " 'SidewalkCount',\n",
       " 'percentSidewalkArea',\n",
       " 'Paved ParkingCount',\n",
       " 'percentPaved ParkingArea',\n",
       " 'Paved DrivewayCount',\n",
       " 'percentPaved DrivewayArea',\n",
       " 'PavementCount',\n",
       " 'percentPavementArea',\n",
       " 'PatioCount',\n",
       " 'percentPatioArea',\n",
       " 'In Ground PoolCount',\n",
       " 'percentIn Ground PoolArea',\n",
       " 'TankCount',\n",
       " 'percentTankArea',\n",
       " 'Unpaved DrivewayCount',\n",
       " 'percentUnpaved DrivewayArea',\n",
       " 'Uncovered DeckCount',\n",
       " 'percentUncovered DeckArea',\n",
       " 'Compacted SoilCount',\n",
       " 'percentCompacted SoilArea',\n",
       " 'BridgeCount',\n",
       " 'percentBridgeArea',\n",
       " 'DockCount',\n",
       " 'percentDockArea',\n",
       " 'Above Ground PoolCount',\n",
       " 'percentAbove Ground PoolArea',\n",
       " 'Recreation Court/Ball FieldCount',\n",
       " 'percentRecreation Court/Ball FieldArea',\n",
       " 'Golf CourseCount',\n",
       " 'percentGolf CourseArea',\n",
       " 'Unpaved Athletic FieldCount',\n",
       " 'percentUnpaved Athletic FieldArea',\n",
       " 'Covered DeckCount',\n",
       " 'percentCovered DeckArea',\n",
       " 'Unpaved ParkingCount',\n",
       " 'percentUnpaved ParkingArea',\n",
       " 'CourtyardCount',\n",
       " 'percentCourtyardArea',\n",
       " 'Open SpaceCount',\n",
       " 'percentOpen SpaceArea',\n",
       " 'Paved DitchCount',\n",
       " 'percentPaved DitchArea',\n",
       " 'Paved RoadCount',\n",
       " 'percentPaved RoadArea',\n",
       " 'StructureCount',\n",
       " 'percentStructureArea',\n",
       " 'Open StorageCount',\n",
       " 'percentOpen StorageArea',\n",
       " 'Median > 10 FeetCount',\n",
       " 'percentMedian > 10 FeetArea',\n",
       " 'MiscellaneousCount',\n",
       " 'percentMiscellaneousArea',\n",
       " 'Paved AlleyCount',\n",
       " 'percentPaved AlleyArea',\n",
       " 'TrailCount',\n",
       " 'percentTrailArea',\n",
       " 'Unpaved RoadCount',\n",
       " 'percentUnpaved RoadArea',\n",
       " 'Gravel/SandpitCount',\n",
       " 'percentGravel/SandpitArea',\n",
       " 'DamCount',\n",
       " 'percentDamArea',\n",
       " 'Unpaved AlleyCount',\n",
       " 'percentUnpaved AlleyArea',\n",
       " 'zoneType']"
      ]
     },
     "execution_count": 2,
     "metadata": {},
     "output_type": "execute_result"
    }
   ],
   "source": [
    "train = pd.read_csv('../data/processed/train.csv')\n",
    "list(train)"
   ]
  },
  {
   "cell_type": "code",
   "execution_count": 5,
   "metadata": {},
   "outputs": [
    {
     "data": {
      "text/plain": [
       "0       0\n",
       "1       0\n",
       "2       0\n",
       "3       0\n",
       "4       0\n",
       "5       0\n",
       "6       0\n",
       "7       0\n",
       "8       0\n",
       "9       0\n",
       "10      0\n",
       "11      0\n",
       "12      0\n",
       "13      0\n",
       "14      0\n",
       "15      0\n",
       "16      0\n",
       "17      0\n",
       "18      0\n",
       "19      0\n",
       "20      0\n",
       "21      0\n",
       "22      0\n",
       "23      0\n",
       "24      0\n",
       "25      0\n",
       "26      0\n",
       "27      0\n",
       "28      0\n",
       "29      0\n",
       "       ..\n",
       "8518    0\n",
       "8519    0\n",
       "8520    0\n",
       "8521    0\n",
       "8522    0\n",
       "8523    0\n",
       "8524    0\n",
       "8525    0\n",
       "8526    0\n",
       "8527    0\n",
       "8528    0\n",
       "8529    0\n",
       "8530    0\n",
       "8531    0\n",
       "8532    0\n",
       "8533    0\n",
       "8534    0\n",
       "8535    0\n",
       "8536    0\n",
       "8537    0\n",
       "8538    0\n",
       "8539    0\n",
       "8540    0\n",
       "8541    0\n",
       "8542    0\n",
       "8543    0\n",
       "8544    0\n",
       "8545    0\n",
       "8546    1\n",
       "8547    0\n",
       "Name: Recreation Court/Ball FieldCount, Length: 8548, dtype: int64"
      ]
     },
     "execution_count": 5,
     "metadata": {},
     "output_type": "execute_result"
    }
   ],
   "source": [
    "train['Recreation Court/Ball FieldCount']"
   ]
  },
  {
   "cell_type": "code",
   "execution_count": 10,
   "metadata": {},
   "outputs": [],
   "source": [
    "recScore = []\n",
    "for i in train.index:\n",
    "    oVal = train.loc[i, 'Open SpaceCount']\n",
    "    uVal = train.loc[i, 'Unpaved Athletic FieldCount']\n",
    "    rbVal = train.loc[i,'Recreation Court/Ball FieldCount']\n",
    "    totalVal = oVal+uVal+rbVal\n",
    "    recScore.append(totalVal)"
   ]
  },
  {
   "cell_type": "code",
   "execution_count": 12,
   "metadata": {},
   "outputs": [
    {
     "data": {
      "text/plain": [
       "count    8548.000000\n",
       "mean        0.137927\n",
       "std         0.819670\n",
       "min         0.000000\n",
       "25%         0.000000\n",
       "50%         0.000000\n",
       "75%         0.000000\n",
       "max        24.000000\n",
       "dtype: float64"
      ]
     },
     "execution_count": 12,
     "metadata": {},
     "output_type": "execute_result"
    }
   ],
   "source": [
    "pd.Series(recScore).describe()"
   ]
  },
  {
   "cell_type": "code",
   "execution_count": null,
   "metadata": {},
   "outputs": [],
   "source": []
  }
 ],
 "metadata": {
  "kernelspec": {
   "display_name": "Python 3",
   "language": "python",
   "name": "python3"
  },
  "language_info": {
   "codemirror_mode": {
    "name": "ipython",
    "version": 3
   },
   "file_extension": ".py",
   "mimetype": "text/x-python",
   "name": "python",
   "nbconvert_exporter": "python",
   "pygments_lexer": "ipython3",
   "version": "3.6.4"
  }
 },
 "nbformat": 4,
 "nbformat_minor": 2
}
