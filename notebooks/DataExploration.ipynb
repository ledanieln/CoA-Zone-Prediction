{
 "cells": [
  {
   "cell_type": "code",
   "execution_count": 1,
   "metadata": {},
   "outputs": [],
   "source": [
    "import pandas as pd\n",
    "import matplotlib.pyplot as plt"
   ]
  },
  {
   "cell_type": "code",
   "execution_count": 2,
   "metadata": {},
   "outputs": [
    {
     "data": {
      "text/plain": [
       "['zoneID',\n",
       " 'zoneArea',\n",
       " 'SidewalkCount',\n",
       " 'percentSidewalkArea',\n",
       " 'Paved ParkingCount',\n",
       " 'percentPaved ParkingArea',\n",
       " 'Paved DrivewayCount',\n",
       " 'percentPaved DrivewayArea',\n",
       " 'PavementCount',\n",
       " 'percentPavementArea',\n",
       " 'PatioCount',\n",
       " 'percentPatioArea',\n",
       " 'In Ground PoolCount',\n",
       " 'percentIn Ground PoolArea',\n",
       " 'TankCount',\n",
       " 'percentTankArea',\n",
       " 'Unpaved DrivewayCount',\n",
       " 'percentUnpaved DrivewayArea',\n",
       " 'Uncovered DeckCount',\n",
       " 'percentUncovered DeckArea',\n",
       " 'Compacted SoilCount',\n",
       " 'percentCompacted SoilArea',\n",
       " 'BridgeCount',\n",
       " 'percentBridgeArea',\n",
       " 'DockCount',\n",
       " 'percentDockArea',\n",
       " 'Above Ground PoolCount',\n",
       " 'percentAbove Ground PoolArea',\n",
       " 'Recreation Court/Ball FieldCount',\n",
       " 'percentRecreation Court/Ball FieldArea',\n",
       " 'Golf CourseCount',\n",
       " 'percentGolf CourseArea',\n",
       " 'Unpaved Athletic FieldCount',\n",
       " 'percentUnpaved Athletic FieldArea',\n",
       " 'Covered DeckCount',\n",
       " 'percentCovered DeckArea',\n",
       " 'Unpaved ParkingCount',\n",
       " 'percentUnpaved ParkingArea',\n",
       " 'CourtyardCount',\n",
       " 'percentCourtyardArea',\n",
       " 'Open SpaceCount',\n",
       " 'percentOpen SpaceArea',\n",
       " 'Paved DitchCount',\n",
       " 'percentPaved DitchArea',\n",
       " 'Paved RoadCount',\n",
       " 'percentPaved RoadArea',\n",
       " 'StructureCount',\n",
       " 'percentStructureArea',\n",
       " 'Open StorageCount',\n",
       " 'percentOpen StorageArea',\n",
       " 'Median > 10 FeetCount',\n",
       " 'percentMedian > 10 FeetArea',\n",
       " 'MiscellaneousCount',\n",
       " 'percentMiscellaneousArea',\n",
       " 'Paved AlleyCount',\n",
       " 'percentPaved AlleyArea',\n",
       " 'TrailCount',\n",
       " 'percentTrailArea',\n",
       " 'Unpaved RoadCount',\n",
       " 'percentUnpaved RoadArea',\n",
       " 'Gravel/SandpitCount',\n",
       " 'percentGravel/SandpitArea',\n",
       " 'DamCount',\n",
       " 'percentDamArea',\n",
       " 'Unpaved AlleyCount',\n",
       " 'percentUnpaved AlleyArea',\n",
       " 'zoneType']"
      ]
     },
     "execution_count": 2,
     "metadata": {},
     "output_type": "execute_result"
    }
   ],
   "source": [
    "train = pd.read_csv('../data/processed/train.csv')\n",
    "list(train)"
   ]
  }
 ],
 "metadata": {
  "kernelspec": {
   "display_name": "Python 3",
   "language": "python",
   "name": "python3"
  },
  "language_info": {
   "codemirror_mode": {
    "name": "ipython",
    "version": 3
   },
   "file_extension": ".py",
   "mimetype": "text/x-python",
   "name": "python",
   "nbconvert_exporter": "python",
   "pygments_lexer": "ipython3",
   "version": "3.6.4"
  }
 },
 "nbformat": 4,
 "nbformat_minor": 2
}
